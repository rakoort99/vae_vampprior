{
 "cells": [
  {
   "cell_type": "code",
   "execution_count": 2,
   "metadata": {},
   "outputs": [],
   "source": [
    "import torch\n",
    "import os\n",
    "import pandas as pd"
   ]
  },
  {
   "cell_type": "code",
   "execution_count": 9,
   "metadata": {},
   "outputs": [],
   "source": [
    "def get_actives(model):\n",
    "    model.args.cuda = not model.args.no_cuda and torch.cuda.is_available()\n",
    "    x = model.generate_x(N=100)\n",
    "    print(x.shape)\n",
    "    z1 = model.q_z_layers[0](x)\n",
    "    z2 = model.q_z_layers[1](z1)\n",
    "    z1final = model.q_z_mean(z1)\n",
    "    active_z1final = (z1final.var(0) > 10**-2).sum()\n",
    "    z2final = model.q_z_mean(z2)\n",
    "    active_z2final = (z2final.var(0) > 10**-2).sum()\n",
    "\n",
    "    return active_z1final, active_z2final"
   ]
  },
  {
   "cell_type": "code",
   "execution_count": 10,
   "metadata": {},
   "outputs": [
    {
     "name": "stdout",
     "output_type": "stream",
     "text": [
      "torch.Size([500, 784])\n",
      "torch.Size([100, 784])\n",
      "torch.Size([100, 784])\n",
      "torch.Size([100, 784])\n",
      "torch.Size([100, 784])\n"
     ]
    }
   ],
   "source": [
    "results_table = pd.DataFrame(index=['test_kl', 'test_ll', 'test_loss', 'test_re', 'train_time', 'train_kl', 'train_loss', 'train_re', 'val_kl', 'val_loss', 'val_re', 'z1_active', 'z2_active'])\n",
    "\n",
    "for mod in os.listdir('./snapshots'):\n",
    "    # model\n",
    "    model = torch.load('./snapshots/' + mod + '/vae.model', map_location=torch.device('cpu'))\n",
    "    prior = model.args.prior\n",
    "\n",
    "    # test stats\n",
    "    test_kl = torch.load('./snapshots/' + mod + '/vae.test_kl')\n",
    "    test_ll = torch.load('./snapshots/' + mod + '/vae.test_log_likelihood')\n",
    "    test_loss = torch.load('./snapshots/' + mod + '/vae.test_loss')\n",
    "    test_re = torch.load('./snapshots/' + mod + '/vae.test_re')\n",
    "\n",
    "    # train stats\n",
    "    train_time = torch.load('./snapshots/' + mod + '/vae.train_time')\n",
    "    train_kl = torch.load('./snapshots/' + mod + '/vae.train_kl')\n",
    "    train_loss = torch.load('./snapshots/' + mod + '/vae.train_loss')\n",
    "    train_re = torch.load('./snapshots/' + mod + '/vae.train_re')\n",
    "\n",
    "    # validation stats\n",
    "    val_kl = torch.load('./snapshots/' + mod + '/vae.val_kl')\n",
    "    val_loss = torch.load('./snapshots/' + mod + '/vae.val_loss')\n",
    "    val_re = torch.load('./snapshots/' + mod + '/vae.val_re')\n",
    "\n",
    "    # active units\n",
    "    a_z1, a_z2 = get_actives(model)\n",
    "    \n",
    "    results_table[prior] = [test_kl, test_ll, test_loss, test_re, train_time, train_kl, train_loss, train_re, val_kl, val_loss, val_re, a_z1, a_z2]"
   ]
  },
  {
   "cell_type": "code",
   "execution_count": 8,
   "metadata": {},
   "outputs": [
    {
     "data": {
      "text/html": [
       "<div>\n",
       "<style scoped>\n",
       "    .dataframe tbody tr th:only-of-type {\n",
       "        vertical-align: middle;\n",
       "    }\n",
       "\n",
       "    .dataframe tbody tr th {\n",
       "        vertical-align: top;\n",
       "    }\n",
       "\n",
       "    .dataframe thead th {\n",
       "        text-align: right;\n",
       "    }\n",
       "</style>\n",
       "<table border=\"1\" class=\"dataframe\">\n",
       "  <thead>\n",
       "    <tr style=\"text-align: right;\">\n",
       "      <th></th>\n",
       "      <th>clust_kmeans</th>\n",
       "      <th>mbap_prior</th>\n",
       "      <th>standard</th>\n",
       "      <th>vampprior</th>\n",
       "      <th>vampprior_data</th>\n",
       "    </tr>\n",
       "  </thead>\n",
       "  <tbody>\n",
       "    <tr>\n",
       "      <th>test_kl</th>\n",
       "      <td>28.112948</td>\n",
       "      <td>33.1262</td>\n",
       "      <td>28.594204</td>\n",
       "      <td>27.963239</td>\n",
       "      <td>30.084353</td>\n",
       "    </tr>\n",
       "    <tr>\n",
       "      <th>test_ll</th>\n",
       "      <td>86.298493</td>\n",
       "      <td>94.652741</td>\n",
       "      <td>88.454685</td>\n",
       "      <td>85.729403</td>\n",
       "      <td>90.089649</td>\n",
       "    </tr>\n",
       "    <tr>\n",
       "      <th>test_loss</th>\n",
       "      <td>91.909822</td>\n",
       "      <td>101.551518</td>\n",
       "      <td>94.515658</td>\n",
       "      <td>91.211451</td>\n",
       "      <td>95.920857</td>\n",
       "    </tr>\n",
       "    <tr>\n",
       "      <th>test_re</th>\n",
       "      <td>63.796874</td>\n",
       "      <td>68.425318</td>\n",
       "      <td>65.921454</td>\n",
       "      <td>63.248212</td>\n",
       "      <td>65.836504</td>\n",
       "    </tr>\n",
       "    <tr>\n",
       "      <th>train_time</th>\n",
       "      <td>1841.567097</td>\n",
       "      <td>873.87098</td>\n",
       "      <td>4676.944288</td>\n",
       "      <td>1998.062041</td>\n",
       "      <td>1573.321065</td>\n",
       "    </tr>\n",
       "    <tr>\n",
       "      <th>train_kl</th>\n",
       "      <td>[133.18978792858124, 127.22189671325684, 125.1...</td>\n",
       "      <td>[21.495587749958037, 26.13886907863617, 35.222...</td>\n",
       "      <td>[165.93118320846557, 147.12275982666014, 131.0...</td>\n",
       "      <td>[107.3181791934967, 105.93054655456542, 103.13...</td>\n",
       "      <td>[21.034469475746153, 24.75148875427246, 24.862...</td>\n",
       "    </tr>\n",
       "    <tr>\n",
       "      <th>train_loss</th>\n",
       "      <td>[121.21003114318847, 69.97997991943359, 64.674...</td>\n",
       "      <td>[47.11323657226563, 23.155290878295897, 19.752...</td>\n",
       "      <td>[120.66961109924317, 68.88641974639893, 63.213...</td>\n",
       "      <td>[120.5384806213379, 69.04380992126465, 63.2267...</td>\n",
       "      <td>[46.88831730651855, 22.96169087219238, 19.0479...</td>\n",
       "    </tr>\n",
       "    <tr>\n",
       "      <th>train_re</th>\n",
       "      <td>[119.87813339233398, 67.43554180145264, 60.921...</td>\n",
       "      <td>[46.898281127929685, 22.632513748168947, 18.69...</td>\n",
       "      <td>[119.01029905700683, 65.9439640197754, 59.2830...</td>\n",
       "      <td>[119.46529878234864, 66.92519884490967, 60.132...</td>\n",
       "      <td>[46.67797203063965, 22.466661254882812, 18.302...</td>\n",
       "    </tr>\n",
       "    <tr>\n",
       "      <th>val_kl</th>\n",
       "      <td>[145.29637100219728, 129.57918197631835, 124.6...</td>\n",
       "      <td>[135.43228271484375, 124.7414924621582, 120.63...</td>\n",
       "      <td>[163.0526124572754, 137.18089920043946, 127.47...</td>\n",
       "      <td>[108.56150535583497, 104.50105003356934, 102.6...</td>\n",
       "      <td>[133.20487182617188, 125.70227905273437, 123.8...</td>\n",
       "    </tr>\n",
       "    <tr>\n",
       "      <th>val_loss</th>\n",
       "      <td>[219.06787734985352, 193.19559020996093, 184.0...</td>\n",
       "      <td>[267.852360534668, 224.98784927368163, 207.816...</td>\n",
       "      <td>[235.6367852783203, 199.21338455200194, 185.54...</td>\n",
       "      <td>[182.37046737670897, 167.38772994995117, 161.8...</td>\n",
       "      <td>[264.5739028930664, 225.1024267578125, 209.942...</td>\n",
       "    </tr>\n",
       "    <tr>\n",
       "      <th>val_re</th>\n",
       "      <td>[73.77150657653809, 63.616407203674314, 59.387...</td>\n",
       "      <td>[132.42007926940917, 100.24635604858399, 87.17...</td>\n",
       "      <td>[72.58417335510254, 62.032484703063965, 58.073...</td>\n",
       "      <td>[73.80896171569825, 62.88668083190918, 59.1937...</td>\n",
       "      <td>[131.36903121948242, 99.40014839172363, 86.075...</td>\n",
       "    </tr>\n",
       "    <tr>\n",
       "      <th>z1_active</th>\n",
       "      <td>tensor(39)</td>\n",
       "      <td>tensor(40)</td>\n",
       "      <td>tensor(36)</td>\n",
       "      <td>tensor(38)</td>\n",
       "      <td>tensor(30)</td>\n",
       "    </tr>\n",
       "    <tr>\n",
       "      <th>z2_active</th>\n",
       "      <td>tensor(33)</td>\n",
       "      <td>tensor(34)</td>\n",
       "      <td>tensor(31)</td>\n",
       "      <td>tensor(35)</td>\n",
       "      <td>tensor(30)</td>\n",
       "    </tr>\n",
       "  </tbody>\n",
       "</table>\n",
       "</div>"
      ],
      "text/plain": [
       "                                                 clust_kmeans  \\\n",
       "test_kl                                             28.112948   \n",
       "test_ll                                             86.298493   \n",
       "test_loss                                           91.909822   \n",
       "test_re                                             63.796874   \n",
       "train_time                                        1841.567097   \n",
       "train_kl    [133.18978792858124, 127.22189671325684, 125.1...   \n",
       "train_loss  [121.21003114318847, 69.97997991943359, 64.674...   \n",
       "train_re    [119.87813339233398, 67.43554180145264, 60.921...   \n",
       "val_kl      [145.29637100219728, 129.57918197631835, 124.6...   \n",
       "val_loss    [219.06787734985352, 193.19559020996093, 184.0...   \n",
       "val_re      [73.77150657653809, 63.616407203674314, 59.387...   \n",
       "z1_active                                          tensor(39)   \n",
       "z2_active                                          tensor(33)   \n",
       "\n",
       "                                                   mbap_prior  \\\n",
       "test_kl                                               33.1262   \n",
       "test_ll                                             94.652741   \n",
       "test_loss                                          101.551518   \n",
       "test_re                                             68.425318   \n",
       "train_time                                          873.87098   \n",
       "train_kl    [21.495587749958037, 26.13886907863617, 35.222...   \n",
       "train_loss  [47.11323657226563, 23.155290878295897, 19.752...   \n",
       "train_re    [46.898281127929685, 22.632513748168947, 18.69...   \n",
       "val_kl      [135.43228271484375, 124.7414924621582, 120.63...   \n",
       "val_loss    [267.852360534668, 224.98784927368163, 207.816...   \n",
       "val_re      [132.42007926940917, 100.24635604858399, 87.17...   \n",
       "z1_active                                          tensor(40)   \n",
       "z2_active                                          tensor(34)   \n",
       "\n",
       "                                                     standard  \\\n",
       "test_kl                                             28.594204   \n",
       "test_ll                                             88.454685   \n",
       "test_loss                                           94.515658   \n",
       "test_re                                             65.921454   \n",
       "train_time                                        4676.944288   \n",
       "train_kl    [165.93118320846557, 147.12275982666014, 131.0...   \n",
       "train_loss  [120.66961109924317, 68.88641974639893, 63.213...   \n",
       "train_re    [119.01029905700683, 65.9439640197754, 59.2830...   \n",
       "val_kl      [163.0526124572754, 137.18089920043946, 127.47...   \n",
       "val_loss    [235.6367852783203, 199.21338455200194, 185.54...   \n",
       "val_re      [72.58417335510254, 62.032484703063965, 58.073...   \n",
       "z1_active                                          tensor(36)   \n",
       "z2_active                                          tensor(31)   \n",
       "\n",
       "                                                    vampprior  \\\n",
       "test_kl                                             27.963239   \n",
       "test_ll                                             85.729403   \n",
       "test_loss                                           91.211451   \n",
       "test_re                                             63.248212   \n",
       "train_time                                        1998.062041   \n",
       "train_kl    [107.3181791934967, 105.93054655456542, 103.13...   \n",
       "train_loss  [120.5384806213379, 69.04380992126465, 63.2267...   \n",
       "train_re    [119.46529878234864, 66.92519884490967, 60.132...   \n",
       "val_kl      [108.56150535583497, 104.50105003356934, 102.6...   \n",
       "val_loss    [182.37046737670897, 167.38772994995117, 161.8...   \n",
       "val_re      [73.80896171569825, 62.88668083190918, 59.1937...   \n",
       "z1_active                                          tensor(38)   \n",
       "z2_active                                          tensor(35)   \n",
       "\n",
       "                                               vampprior_data  \n",
       "test_kl                                             30.084353  \n",
       "test_ll                                             90.089649  \n",
       "test_loss                                           95.920857  \n",
       "test_re                                             65.836504  \n",
       "train_time                                        1573.321065  \n",
       "train_kl    [21.034469475746153, 24.75148875427246, 24.862...  \n",
       "train_loss  [46.88831730651855, 22.96169087219238, 19.0479...  \n",
       "train_re    [46.67797203063965, 22.466661254882812, 18.302...  \n",
       "val_kl      [133.20487182617188, 125.70227905273437, 123.8...  \n",
       "val_loss    [264.5739028930664, 225.1024267578125, 209.942...  \n",
       "val_re      [131.36903121948242, 99.40014839172363, 86.075...  \n",
       "z1_active                                          tensor(30)  \n",
       "z2_active                                          tensor(30)  "
      ]
     },
     "execution_count": 8,
     "metadata": {},
     "output_type": "execute_result"
    }
   ],
   "source": [
    "results_table"
   ]
  },
  {
   "cell_type": "code",
   "execution_count": 1,
   "metadata": {},
   "outputs": [
    {
     "ename": "IndentationError",
     "evalue": "unexpected indent (3884665303.py, line 6)",
     "output_type": "error",
     "traceback": [
      "\u001b[1;36m  Cell \u001b[1;32mIn[1], line 6\u001b[1;36m\u001b[0m\n\u001b[1;33m    z2 = model.q_z_layers[1](z1)\u001b[0m\n\u001b[1;37m    ^\u001b[0m\n\u001b[1;31mIndentationError\u001b[0m\u001b[1;31m:\u001b[0m unexpected indent\n"
     ]
    }
   ],
   "source": []
  },
  {
   "cell_type": "code",
   "execution_count": 199,
   "metadata": {},
   "outputs": [],
   "source": [
    "z1 = model.q_z_layers[0](x)\n",
    "active_z1 = (z1.var(0) > 10**-2).sum()"
   ]
  },
  {
   "cell_type": "code",
   "execution_count": 200,
   "metadata": {},
   "outputs": [],
   "source": [
    "z2 = model.q_z_layers[1](z1)\n",
    "active_z2 = (z2.var(0) > 0.01).sum()"
   ]
  },
  {
   "cell_type": "code",
   "execution_count": 201,
   "metadata": {},
   "outputs": [
    {
     "data": {
      "text/plain": [
       "tensor(217)"
      ]
     },
     "execution_count": 201,
     "metadata": {},
     "output_type": "execute_result"
    }
   ],
   "source": [
    "active_z2"
   ]
  },
  {
   "cell_type": "code",
   "execution_count": 202,
   "metadata": {},
   "outputs": [
    {
     "name": "stdout",
     "output_type": "stream",
     "text": [
      "tensor(286) tensor(217)\n"
     ]
    }
   ],
   "source": [
    "print(active_z1, active_z2)"
   ]
  },
  {
   "cell_type": "code",
   "execution_count": 203,
   "metadata": {},
   "outputs": [
    {
     "data": {
      "text/plain": [
       "tensor(31)"
      ]
     },
     "execution_count": 203,
     "metadata": {},
     "output_type": "execute_result"
    }
   ],
   "source": [
    "z2final = model.q_z_mean(z2)\n",
    "active_z2final = (z2final.var(0) > 10**-2).sum()\n",
    "active_z2final"
   ]
  },
  {
   "cell_type": "code",
   "execution_count": 204,
   "metadata": {},
   "outputs": [
    {
     "data": {
      "text/plain": [
       "tensor(37)"
      ]
     },
     "execution_count": 204,
     "metadata": {},
     "output_type": "execute_result"
    }
   ],
   "source": [
    "z1final = model.q_z_mean(z1)\n",
    "active_z1final = (z1final.var(0) > 10**-2).sum()\n",
    "active_z1final"
   ]
  },
  {
   "cell_type": "code",
   "execution_count": null,
   "metadata": {},
   "outputs": [],
   "source": []
  }
 ],
 "metadata": {
  "kernelspec": {
   "display_name": "thesis_env",
   "language": "python",
   "name": "python3"
  },
  "language_info": {
   "codemirror_mode": {
    "name": "ipython",
    "version": 3
   },
   "file_extension": ".py",
   "mimetype": "text/x-python",
   "name": "python",
   "nbconvert_exporter": "python",
   "pygments_lexer": "ipython3",
   "version": "3.11.5"
  }
 },
 "nbformat": 4,
 "nbformat_minor": 2
}
